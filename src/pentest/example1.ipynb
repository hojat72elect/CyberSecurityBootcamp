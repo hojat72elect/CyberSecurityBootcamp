{
 "cells": [
  {
   "cell_type": "code",
   "id": "83a3c637cfa8496",
   "metadata": {
    "ExecuteTime": {
     "end_time": "2025-09-15T03:56:47.526361Z",
     "start_time": "2025-09-15T03:56:47.493324Z"
    }
   },
   "source": [
    "# imports\n",
    "\n",
    "import socket\n",
    "import whois"
   ],
   "outputs": [],
   "execution_count": 5
  },
  {
   "cell_type": "code",
   "execution_count": null,
   "id": "initial_id",
   "metadata": {
    "ExecuteTime": {
     "end_time": "2025-09-15T03:44:01.524747Z",
     "start_time": "2025-09-15T03:44:01.518908Z"
    },
    "collapsed": true
   },
   "outputs": [
    {
     "data": {
      "text/plain": [
       "'the ip address of the website : 194.41.49.121'"
      ]
     },
     "execution_count": 3,
     "metadata": {},
     "output_type": "execute_result"
    }
   ],
   "source": [
    "# get the IP address of a website (DNS lookup)\n",
    "\n",
    "website1 = \"iribnews.ir\"\n",
    "ip_address = socket.gethostbyname(website1)\n",
    "\n",
    "f\"the ip address of the website : {ip_address}\""
   ]
  },
  {
   "cell_type": "code",
   "id": "ea6dcf3ed12afda0",
   "metadata": {
    "ExecuteTime": {
     "end_time": "2025-09-15T03:49:46.956012Z",
     "start_time": "2025-09-15T03:49:46.951487Z"
    }
   },
   "source": [
    "type(ip_address)"
   ],
   "outputs": [
    {
     "data": {
      "text/plain": [
       "str"
      ]
     },
     "execution_count": 4,
     "metadata": {},
     "output_type": "execute_result"
    }
   ],
   "execution_count": 4
  },
  {
   "cell_type": "code",
   "id": "2be830ba",
   "metadata": {
    "ExecuteTime": {
     "end_time": "2025-09-15T04:00:11.740157Z",
     "start_time": "2025-09-15T04:00:06.225229Z"
    }
   },
   "source": [
    "# Get the whois information of this website\n",
    "try:\n",
    "    w = whois.whois(ip_address)\n",
    "    print(f\"The whois information : \\n{w}\")\n",
    "except Exception as e:\n",
    "    print(\"There are no whois information regarding this website\")"
   ],
   "outputs": [
    {
     "name": "stdout",
     "output_type": "stream",
     "text": [
      "The whois information : \n",
      "{\n",
      "  \"domain_name\": null,\n",
      "  \"registrar\": null,\n",
      "  \"registrar_url\": null,\n",
      "  \"reseller\": null,\n",
      "  \"whois_server\": null,\n",
      "  \"referral_url\": null,\n",
      "  \"updated_date\": null,\n",
      "  \"creation_date\": null,\n",
      "  \"expiration_date\": null,\n",
      "  \"name_servers\": null,\n",
      "  \"status\": \"ASSIGNED PA\",\n",
      "  \"emails\": [\n",
      "    \"abuse@ripe.net\",\n",
      "    \"hostmaster@ripe.net\",\n",
      "    \"'ripe@imen.host\"\n",
      "  ],\n",
      "  \"dnssec\": null,\n",
      "  \"name\": null,\n",
      "  \"org\": null,\n",
      "  \"address\": null,\n",
      "  \"city\": null,\n",
      "  \"state\": null,\n",
      "  \"registrant_postal_code\": null,\n",
      "  \"country\": null\n",
      "}\n"
     ]
    }
   ],
   "execution_count": 6
  },
  {
   "metadata": {},
   "cell_type": "markdown",
   "source": "It looks like this domain (IRIB news) is using [Imen Host](https://imenhost.ir/) as their host and ISP.",
   "id": "ef71f248c494ff37"
  },
  {
   "metadata": {
    "ExecuteTime": {
     "end_time": "2025-09-15T04:22:28.239388Z",
     "start_time": "2025-09-15T04:22:15.800294Z"
    }
   },
   "cell_type": "code",
   "source": [
    "# Just scan a few common TCP ports on the target IP address\n",
    "# Each open port usually corresponds to a running service; for example, port 80 for a web server and port 22 for SSH.\n",
    "\n",
    "\n",
    "common_ports = [21, 22, 25, 80, 110, 443, 3389, 8080]\n",
    "for port in common_ports:\n",
    "    with socket.socket(socket.AF_INET, socket.SOCK_STREAM) as s:\n",
    "        s.settimeout(2)\n",
    "        if s.connect_ex((ip_address, port)) == 0:\n",
    "            # A result of 0 indicates that the port is open\n",
    "            print(f\"Port {port}: Open\")"
   ],
   "id": "68762eae8714e97b",
   "outputs": [
    {
     "name": "stdout",
     "output_type": "stream",
     "text": [
      "Port 80: Open\n",
      "Port 443: Open\n"
     ]
    }
   ],
   "execution_count": 7
  },
  {
   "metadata": {},
   "cell_type": "code",
   "outputs": [],
   "execution_count": null,
   "source": "",
   "id": "40f8e7cae3daf6e9"
  }
 ],
 "metadata": {
  "kernelspec": {
   "display_name": "Python 3",
   "language": "python",
   "name": "python3"
  },
  "language_info": {
   "codemirror_mode": {
    "name": "ipython",
    "version": 2
   },
   "file_extension": ".py",
   "mimetype": "text/x-python",
   "name": "python",
   "nbconvert_exporter": "python",
   "pygments_lexer": "ipython2",
   "version": "2.7.6"
  }
 },
 "nbformat": 4,
 "nbformat_minor": 5
}
